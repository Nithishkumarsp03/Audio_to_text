{
 "cells": [
  {
   "cell_type": "code",
   "execution_count": 3,
   "id": "f37202ec-895a-4810-bc92-1c35b72ac32a",
   "metadata": {},
   "outputs": [],
   "source": [
    "import speech_recognition as sr"
   ]
  },
  {
   "cell_type": "code",
   "execution_count": null,
   "id": "9b7c0ab0-80ba-48dd-b82e-3295323a74e2",
   "metadata": {
    "tags": []
   },
   "outputs": [
    {
     "name": "stdout",
     "output_type": "stream",
     "text": [
      "Please say something..\n"
     ]
    }
   ],
   "source": [
    "def main():\n",
    "    r = sr.Recognizer()\n",
    "    \n",
    "    with sr.Microphone() as source:\n",
    "        r.adjust_for_ambient_noise(source)\n",
    "        print(\"Please say something..\")\n",
    "        audio = r.listen(source)\n",
    "        \n",
    "        try:\n",
    "            print(\"You have said: \" + r.recognize_google(audio))\n",
    "            \n",
    "        except Exception as e:\n",
    "            print(\"Error : \" + str(e))\n",
    "            \n",
    "if __name__ == \"__main__\":\n",
    "    main()"
   ]
  },
  {
   "cell_type": "code",
   "execution_count": null,
   "id": "50221934-6598-49ea-89ae-9503fcde2769",
   "metadata": {},
   "outputs": [],
   "source": []
  },
  {
   "cell_type": "code",
   "execution_count": null,
   "id": "be220418-6bca-48e4-ba50-0ad6b04930e6",
   "metadata": {},
   "outputs": [],
   "source": []
  }
 ],
 "metadata": {
  "kernelspec": {
   "display_name": "Python 3 (ipykernel)",
   "language": "python",
   "name": "python3"
  },
  "language_info": {
   "codemirror_mode": {
    "name": "ipython",
    "version": 3
   },
   "file_extension": ".py",
   "mimetype": "text/x-python",
   "name": "python",
   "nbconvert_exporter": "python",
   "pygments_lexer": "ipython3",
   "version": "3.11.5"
  }
 },
 "nbformat": 4,
 "nbformat_minor": 5
}
